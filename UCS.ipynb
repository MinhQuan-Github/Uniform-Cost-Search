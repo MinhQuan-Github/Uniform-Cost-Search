{
 "cells": [
  {
   "cell_type": "markdown",
   "metadata": {
    "collapsed": true,
    "pycharm": {
     "name": "#%% md\n"
    }
   },
   "source": [
    "# Implementation of Uniform Cost Search\n",
    "\n",
    "## Objective\n",
    "To implement uniform cost search of given data and find optimum cost between source and destination.\n",
    "\n",
    "Input file : input.txt\n",
    "\n",
    "## Insights about data:\n",
    "\tLuebeck Hamburg 63\n",
    "\tHamburg Bremen 116\n",
    "\tHamburg Hannover 153\n",
    "\tHamburg Berlin 291\n",
    "\tBremen Hannover 132\n",
    "\tBremen Dortmund 234\n",
    "\tHannover Magdeburg 148\n",
    "\tHannover Kassel 165\n",
    "\tMagdeburg Berlin 166\n",
    "\tBerlin Dresden 204\n",
    "\tDresden Leipzig 119\n",
    "\tLeipzig Magdeburg 125\n",
    "\tDortmund Duesseldorf 69\n",
    "\tKassel Frankfurt 185\n",
    "\tFrankfurt Dortmund 221\n",
    "\tFrankfurt Nuremberg 222\n",
    "\tLeipzig Nuremberg 263\n",
    "\tDortmund Saarbruecken 350\n",
    "\tSaarbruecken Frankfurt 177\n",
    "\tSaarbruecken Karlsruhe 143\n",
    "\tKarlsruhe Stuttgart 71\n",
    "\tStuttgart Frankfurt 200\n",
    "\tStuttgart Munich 215\n",
    "\tStuttgart Nuremberg 207\n",
    "\tNuremberg Munich 171\n",
    "\tManchester Birmingham 84\n",
    "\tBirmingham Bristol 85\n",
    "\tBirmingham London 117\n",
    "\tEND OF INPUT\n",
    "\n",
    "\n",
    "Graphical representation:\n",
    "![alt text](graph.png \"Full graph\")"
   ]
  },
  {
   "cell_type": "markdown",
   "metadata": {
    "pycharm": {
     "name": "#%% md\n"
    }
   },
   "source": [
    "## Importing necessary packages"
   ]
  },
  {
   "cell_type": "code",
   "execution_count": 1,
   "metadata": {
    "collapsed": true,
    "pycharm": {
     "name": "#%%\n"
    }
   },
   "outputs": [],
   "source": [
    "from sys import argv\n",
    "from heapq import heappush, heappop"
   ]
  },
  {
   "cell_type": "markdown",
   "metadata": {
    "pycharm": {
     "name": "#%% md\n"
    }
   },
   "source": [
    "## The Uniform Cost Search Program\n",
    "This function computes a dictionary to reach to goal node from the starting node.\n",
    "It uses heapq package to maintain the fringe of nodes with their information.\n",
    "Each node in fringe has following 4 attributes:\n",
    "1. Total cost till the current node\n",
    "2. Name of current node\n",
    "3. Name of previous node\n",
    "4. Cost from previous node to current node.\n",
    "\n",
    "A tuple is formed from these 4 properties and inserted in to heap to main a fringe of all nodes to be visited.\n",
    "The tuple with least total cost is explored further to find path to goal node.\n",
    "Once the goal node is reached, the path is again traced back.\n",
    "We do this by maintaining 2 dictionary : Previous nodes and Visited node\n",
    "\n",
    "1. Previous nodes : It stores the previous node of each node explored to trace back the route.\n",
    "2. Visited nodes : It stored a boolean value, indicating if the node is visited or not, thus helping to avoid loops."
   ]
  },
  {
   "cell_type": "code",
   "execution_count": 2,
   "metadata": {
    "collapsed": false,
    "pycharm": {
     "name": "#%%\n"
    }
   },
   "outputs": [],
   "source": [
    "\n",
    "def UCS(graph, s, goal):\n",
    "\t# define dummy variables for use\n",
    "\tnodesQ = []\n",
    "\tvisited_nodes = {}\n",
    "\tprev_nodes = {}\n",
    "\n",
    "\t# using heap for mainitng a queue\n",
    "\theappush(nodesQ,(0,s,None,0))\n",
    "\tfor nodes in graph:\n",
    "\t\tvisited_nodes[nodes] = False\n",
    "\t\tprev_nodes[nodes] = None\n",
    "\ti = 1\n",
    "\t# mark all visited and previous nodes False and None\n",
    "\twhile len(nodesQ) != 0:\n",
    "\t\t# pop the least cost node from heap and analyse it\n",
    "\t\tprint(\"\\nFringe at Loop#: \",i)\n",
    "\t\tprint(nodesQ)\n",
    "\t\ti = i + 1\n",
    "\t\ttotal_cost, current_node, prev_node, link_cost = heappop(nodesQ)\n",
    "\t\tif not visited_nodes[current_node]:\n",
    "\t\t\tvisited_nodes[current_node] = True\n",
    "\t\t\tprev_nodes[current_node] = []\n",
    "\t\t\tprev_nodes[current_node].append(prev_node)\n",
    "\t\t\tprev_nodes[current_node].append(link_cost)\n",
    "\t\t\t# if goal return the total route\n",
    "\t\t\tif current_node == goal:\n",
    "\t\t\t\tfinal = []\n",
    "\t\t\t\twhile current_node != s:\n",
    "\t\t\t\t\ttemp = [current_node]\n",
    "\t\t\t\t\tfor i in prev_nodes[current_node]:\n",
    "\t\t\t\t\t\ttemp.append(i)\n",
    "\t\t\t\t\tfinal.append(temp)\n",
    "\t\t\t\t\tcurrent_node = prev_nodes[current_node][0]\n",
    "\t\t\t\tfinal.reverse()\n",
    "\t\t\t\t# retrn total cost and final path\n",
    "\t\t\t\treturn total_cost,final\n",
    "\t\t\t# else explore neighbours\n",
    "\t\t\tfor neighbors, ncost in graph[current_node].items():\n",
    "\t\t\t\tif not visited_nodes[neighbors]:\n",
    "\t\t\t\t\tthis_link_cost = ncost\n",
    "\t\t\t\t\tnew_cost = total_cost + ncost\n",
    "\t\t\t\t\theappush(nodesQ, (new_cost, neighbors, current_node, ncost))\n",
    "\t# return none if no path found\n",
    "\n",
    "\treturn None\n",
    "\tpass"
   ]
  },
  {
   "cell_type": "markdown",
   "metadata": {
    "pycharm": {
     "name": "#%% md\n"
    }
   },
   "source": [
    "## The main method\n",
    "The main method expects 3 parameters:\n",
    "1. The file from which the graph data is to be read.\n",
    "2. The source node.\n",
    "3. The goal node.\n",
    "\n",
    "Initial step is to reaed the file and prepare a dictionary out of it.\n",
    "If it contains so *'END OF FILE'* statement at the end then remove that line from dictionary.\n",
    "\n",
    "The next step is to prepare a Graph from it. It is algo a dictionary.\n",
    "The source node is the key and its value is a dictionary with key as the destination and value as the cost from source to destination.\n",
    "\n",
    "Finally, the call to UCS function is made, which gets back a tuple with 2 values.\n",
    "1. Total cost from source to destination\n",
    "2. Path from source to destination.\n",
    "\n",
    "The output is processed and it is printed in the desired format.\n",
    "If no path is available then the distance given in *infinity*."
   ]
  },
  {
   "cell_type": "code",
   "execution_count": 3,
   "metadata": {
    "collapsed": true,
    "pycharm": {
     "name": "#%%\n"
    }
   },
   "outputs": [],
   "source": [
    "def main(file, arg1, arg2):\n",
    "\t# checking arguments for processing\n",
    "\ttry:\n",
    "\t\tfilename=file\n",
    "\t\tSource=arg1\n",
    "\t\tDestination=arg2\n",
    "\texcept IndexError:\n",
    "\t\tprint('\\n***Insufficient argument***\\n')\n",
    "\t\treturn\n",
    "\t# open file and make data ready for analysis\n",
    "\tfile = open(filename, 'r')\n",
    "\tfiledata = file.readlines()\n",
    "\t# make a dictionary of graph\n",
    "\tfiledata = [x.strip().split() for x in filedata]\n",
    "\t# if end of file then remove the last line\n",
    "\tif filedata[-1:][0][0] == 'END':\n",
    "\t\tfiledata.pop()\n",
    "\n",
    "\t# empty graph\n",
    "\tG = {}\n",
    "\tfor rec in filedata:\n",
    "\t\tsrc = rec[0]\n",
    "\t\tdest = rec[1]\n",
    "\t\tcst = rec[2]\n",
    "\t\tif src not in G:\n",
    "\t\t\tG[src] = {}\n",
    "\t\tif dest not in G:\n",
    "\t\t\tG[dest] = {}\n",
    "\t\t# create src and dest nodes with its length from input file\n",
    "\t\tG[src][dest] = int(cst)\n",
    "\t\tG[dest][src] = int(cst)\n",
    "\n",
    "\t# call the UCS function\n",
    "\tresult = UCS(G,Source,Destination)\n",
    "\n",
    "\tprint(\"\\n\\nFinal output: \\n\")\n",
    "\t# print the result in the required format\n",
    "\tif result is None:\n",
    "\t\tprint(\"\\ndistance: infinity\\nroute:\\nnone\\n\")\n",
    "\telse:\n",
    "\t\tprint(\"\\ndistance:\",result[0],\"km\\nroute:\")\n",
    "\t\tfor line in result[1]:\n",
    "\t\t\tprint(\"%s to %s, %s km\" % (line[1],line[0],line[2]))\n",
    "\t\tprint(\"\")\n",
    "\n",
    "\tpass\n"
   ]
  },
  {
   "cell_type": "markdown",
   "metadata": {
    "pycharm": {
     "name": "#%% md\n"
    }
   },
   "source": [
    "## The final call\n",
    "Calling the main method twice with different nodes\n",
    "1. First call has 2 nodes with a definate path between them\n",
    "2. Second call does not have a path between them."
   ]
  },
  {
   "cell_type": "code",
   "execution_count": 5,
   "metadata": {
    "collapsed": false,
    "pycharm": {
     "name": "#%%\n"
    }
   },
   "outputs": [
    {
     "name": "stdout",
     "output_type": "stream",
     "text": [
      "\n",
      "\n",
      "\n",
      "\n",
      "Saarbruecken to Stuttgart\n",
      "\n",
      "Fringe at Loop#:  1\n",
      "[(0, 'Saarbruecken', None, 0)]\n",
      "\n",
      "Fringe at Loop#:  2\n",
      "[(143, 'Karlsruhe', 'Saarbruecken', 143), (350, 'Dortmund', 'Saarbruecken', 350), (177, 'Frankfurt', 'Saarbruecken', 177)]\n",
      "\n",
      "Fringe at Loop#:  3\n",
      "[(177, 'Frankfurt', 'Saarbruecken', 177), (350, 'Dortmund', 'Saarbruecken', 350), (214, 'Stuttgart', 'Karlsruhe', 71)]\n",
      "\n",
      "Fringe at Loop#:  4\n",
      "[(214, 'Stuttgart', 'Karlsruhe', 71), (350, 'Dortmund', 'Saarbruecken', 350), (362, 'Kassel', 'Frankfurt', 185), (398, 'Dortmund', 'Frankfurt', 221), (399, 'Nuremberg', 'Frankfurt', 222), (377, 'Stuttgart', 'Frankfurt', 200)]\n",
      "\n",
      "\n",
      "Final output: \n",
      "\n",
      "\n",
      "distance: 214 km\n",
      "route:\n",
      "Saarbruecken to Karlsruhe, 143 km\n",
      "Karlsruhe to Stuttgart, 71 km\n",
      "\n",
      "\n",
      "\n",
      "\n",
      "\n",
      "Hamburg to London\n",
      "\n",
      "Fringe at Loop#:  1\n",
      "[(0, 'Hamburg', None, 0)]\n",
      "\n",
      "Fringe at Loop#:  2\n",
      "[(63, 'Luebeck', 'Hamburg', 63), (116, 'Bremen', 'Hamburg', 116), (153, 'Hannover', 'Hamburg', 153), (291, 'Berlin', 'Hamburg', 291)]\n",
      "\n",
      "Fringe at Loop#:  3\n",
      "[(116, 'Bremen', 'Hamburg', 116), (291, 'Berlin', 'Hamburg', 291), (153, 'Hannover', 'Hamburg', 153)]\n",
      "\n",
      "Fringe at Loop#:  4\n",
      "[(153, 'Hannover', 'Hamburg', 153), (291, 'Berlin', 'Hamburg', 291), (248, 'Hannover', 'Bremen', 132), (350, 'Dortmund', 'Bremen', 234)]\n",
      "\n",
      "Fringe at Loop#:  5\n",
      "[(248, 'Hannover', 'Bremen', 132), (291, 'Berlin', 'Hamburg', 291), (350, 'Dortmund', 'Bremen', 234), (301, 'Magdeburg', 'Hannover', 148), (318, 'Kassel', 'Hannover', 165)]\n",
      "\n",
      "Fringe at Loop#:  6\n",
      "[(291, 'Berlin', 'Hamburg', 291), (301, 'Magdeburg', 'Hannover', 148), (350, 'Dortmund', 'Bremen', 234), (318, 'Kassel', 'Hannover', 165)]\n",
      "\n",
      "Fringe at Loop#:  7\n",
      "[(301, 'Magdeburg', 'Hannover', 148), (318, 'Kassel', 'Hannover', 165), (350, 'Dortmund', 'Bremen', 234), (457, 'Magdeburg', 'Berlin', 166), (495, 'Dresden', 'Berlin', 204)]\n",
      "\n",
      "Fringe at Loop#:  8\n",
      "[(318, 'Kassel', 'Hannover', 165), (426, 'Leipzig', 'Magdeburg', 125), (350, 'Dortmund', 'Bremen', 234), (495, 'Dresden', 'Berlin', 204), (457, 'Magdeburg', 'Berlin', 166)]\n",
      "\n",
      "Fringe at Loop#:  9\n",
      "[(350, 'Dortmund', 'Bremen', 234), (426, 'Leipzig', 'Magdeburg', 125), (457, 'Magdeburg', 'Berlin', 166), (495, 'Dresden', 'Berlin', 204), (503, 'Frankfurt', 'Kassel', 185)]\n",
      "\n",
      "Fringe at Loop#:  10\n",
      "[(419, 'Duesseldorf', 'Dortmund', 69), (426, 'Leipzig', 'Magdeburg', 125), (457, 'Magdeburg', 'Berlin', 166), (503, 'Frankfurt', 'Kassel', 185), (495, 'Dresden', 'Berlin', 204), (571, 'Frankfurt', 'Dortmund', 221), (700, 'Saarbruecken', 'Dortmund', 350)]\n",
      "\n",
      "Fringe at Loop#:  11\n",
      "[(426, 'Leipzig', 'Magdeburg', 125), (495, 'Dresden', 'Berlin', 204), (457, 'Magdeburg', 'Berlin', 166), (503, 'Frankfurt', 'Kassel', 185), (700, 'Saarbruecken', 'Dortmund', 350), (571, 'Frankfurt', 'Dortmund', 221)]\n",
      "\n",
      "Fringe at Loop#:  12\n",
      "[(457, 'Magdeburg', 'Berlin', 166), (495, 'Dresden', 'Berlin', 204), (545, 'Dresden', 'Leipzig', 119), (503, 'Frankfurt', 'Kassel', 185), (700, 'Saarbruecken', 'Dortmund', 350), (571, 'Frankfurt', 'Dortmund', 221), (689, 'Nuremberg', 'Leipzig', 263)]\n",
      "\n",
      "Fringe at Loop#:  13\n",
      "[(495, 'Dresden', 'Berlin', 204), (503, 'Frankfurt', 'Kassel', 185), (545, 'Dresden', 'Leipzig', 119), (689, 'Nuremberg', 'Leipzig', 263), (700, 'Saarbruecken', 'Dortmund', 350), (571, 'Frankfurt', 'Dortmund', 221)]\n",
      "\n",
      "Fringe at Loop#:  14\n",
      "[(503, 'Frankfurt', 'Kassel', 185), (571, 'Frankfurt', 'Dortmund', 221), (545, 'Dresden', 'Leipzig', 119), (689, 'Nuremberg', 'Leipzig', 263), (700, 'Saarbruecken', 'Dortmund', 350)]\n",
      "\n",
      "Fringe at Loop#:  15\n",
      "[(545, 'Dresden', 'Leipzig', 119), (571, 'Frankfurt', 'Dortmund', 221), (680, 'Saarbruecken', 'Frankfurt', 177), (689, 'Nuremberg', 'Leipzig', 263), (725, 'Nuremberg', 'Frankfurt', 222), (700, 'Saarbruecken', 'Dortmund', 350), (703, 'Stuttgart', 'Frankfurt', 200)]\n",
      "\n",
      "Fringe at Loop#:  16\n",
      "[(571, 'Frankfurt', 'Dortmund', 221), (689, 'Nuremberg', 'Leipzig', 263), (680, 'Saarbruecken', 'Frankfurt', 177), (703, 'Stuttgart', 'Frankfurt', 200), (725, 'Nuremberg', 'Frankfurt', 222), (700, 'Saarbruecken', 'Dortmund', 350)]\n",
      "\n",
      "Fringe at Loop#:  17\n",
      "[(680, 'Saarbruecken', 'Frankfurt', 177), (689, 'Nuremberg', 'Leipzig', 263), (700, 'Saarbruecken', 'Dortmund', 350), (703, 'Stuttgart', 'Frankfurt', 200), (725, 'Nuremberg', 'Frankfurt', 222)]\n",
      "\n",
      "Fringe at Loop#:  18\n",
      "[(689, 'Nuremberg', 'Leipzig', 263), (703, 'Stuttgart', 'Frankfurt', 200), (700, 'Saarbruecken', 'Dortmund', 350), (725, 'Nuremberg', 'Frankfurt', 222), (823, 'Karlsruhe', 'Saarbruecken', 143)]\n",
      "\n",
      "Fringe at Loop#:  19\n",
      "[(700, 'Saarbruecken', 'Dortmund', 350), (703, 'Stuttgart', 'Frankfurt', 200), (823, 'Karlsruhe', 'Saarbruecken', 143), (725, 'Nuremberg', 'Frankfurt', 222), (896, 'Stuttgart', 'Nuremberg', 207), (860, 'Munich', 'Nuremberg', 171)]\n",
      "\n",
      "Fringe at Loop#:  20\n",
      "[(703, 'Stuttgart', 'Frankfurt', 200), (725, 'Nuremberg', 'Frankfurt', 222), (823, 'Karlsruhe', 'Saarbruecken', 143), (860, 'Munich', 'Nuremberg', 171), (896, 'Stuttgart', 'Nuremberg', 207)]\n",
      "\n",
      "Fringe at Loop#:  21\n",
      "[(725, 'Nuremberg', 'Frankfurt', 222), (774, 'Karlsruhe', 'Stuttgart', 71), (823, 'Karlsruhe', 'Saarbruecken', 143), (896, 'Stuttgart', 'Nuremberg', 207), (860, 'Munich', 'Nuremberg', 171), (918, 'Munich', 'Stuttgart', 215)]\n",
      "\n",
      "Fringe at Loop#:  22\n",
      "[(774, 'Karlsruhe', 'Stuttgart', 71), (860, 'Munich', 'Nuremberg', 171), (823, 'Karlsruhe', 'Saarbruecken', 143), (896, 'Stuttgart', 'Nuremberg', 207), (918, 'Munich', 'Stuttgart', 215)]\n",
      "\n",
      "Fringe at Loop#:  23\n",
      "[(823, 'Karlsruhe', 'Saarbruecken', 143), (860, 'Munich', 'Nuremberg', 171), (918, 'Munich', 'Stuttgart', 215), (896, 'Stuttgart', 'Nuremberg', 207)]\n",
      "\n",
      "Fringe at Loop#:  24\n",
      "[(860, 'Munich', 'Nuremberg', 171), (896, 'Stuttgart', 'Nuremberg', 207), (918, 'Munich', 'Stuttgart', 215)]\n",
      "\n",
      "Fringe at Loop#:  25\n",
      "[(896, 'Stuttgart', 'Nuremberg', 207), (918, 'Munich', 'Stuttgart', 215)]\n",
      "\n",
      "Fringe at Loop#:  26\n",
      "[(918, 'Munich', 'Stuttgart', 215)]\n",
      "\n",
      "\n",
      "Final output: \n",
      "\n",
      "\n",
      "distance: infinity\n",
      "route:\n",
      "none\n",
      "\n"
     ]
    }
   ],
   "source": [
    "# With valid path\n",
    "print(\"\\n\\n\\n\\nSaarbruecken to Stuttgart\")\n",
    "main('input.txt','Saarbruecken','Stuttgart')\n",
    "\n",
    "# With no path between these nodes.\n",
    "print(\"\\n\\n\\n\\nHamburg to London\")\n",
    "main('input.txt','Hamburg','London')"
   ]
  },
  {
   "cell_type": "code",
   "execution_count": 4,
   "metadata": {
    "collapsed": true,
    "pycharm": {
     "name": "#%%\n"
    }
   },
   "outputs": [],
   "source": []
  }
 ],
 "metadata": {
  "anaconda-cloud": {},
  "kernelspec": {
   "name": "python3",
   "language": "python",
   "display_name": "Python 3 (ipykernel)"
  },
  "language_info": {
   "codemirror_mode": {
    "name": "ipython",
    "version": 2
   },
   "file_extension": ".py",
   "mimetype": "text/x-python",
   "name": "python",
   "nbconvert_exporter": "python",
   "pygments_lexer": "ipython2",
   "version": "2.7.12"
  }
 },
 "nbformat": 4,
 "nbformat_minor": 1
}